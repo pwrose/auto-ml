{
 "cells": [
  {
   "cell_type": "markdown",
   "metadata": {},
   "source": [
    "# Regression Example from auto-sklearn\n",
    "[Source](https://github.com/automl/auto-sklearn/blob/master/examples/example_regression.py)"
   ]
  },
  {
   "cell_type": "markdown",
   "metadata": {},
   "source": [
    "The following example shows how to fit a simple regression model with\n",
    "*auto-sklearn*."
   ]
  },
  {
   "cell_type": "code",
   "execution_count": null,
   "metadata": {},
   "outputs": [],
   "source": [
    "from warnings import simplefilter\n",
    "simplfilter(action='ignore', category=FutureWarnings)"
   ]
  },
  {
   "cell_type": "code",
   "execution_count": null,
   "metadata": {},
   "outputs": [],
   "source": [
    "import autosklearn.regression\n",
    "import sklearn.model_selection\n",
    "import sklearn.datasets\n",
    "import sklearn.metrics"
   ]
  },
  {
   "cell_type": "code",
   "execution_count": null,
   "metadata": {},
   "outputs": [],
   "source": [
    "X, y = sklearn.datasets.load_boston(return_X_y=True)\n",
    "feature_types = (['numerical'] * 3) + ['categorical'] + (['numerical'] * 9)X_train, X_test, y_train, y_test = \\\n",
    "        sklearn.model_selection.train_test_split(X, y, random_state=1)\n",
    "\n",
    "automl = autosklearn.regression.AutoSklearnRegressor(\n",
    "        time_left_for_this_task=120,\n",
    "        per_run_time_limit=30,\n",
    "        tmp_folder='/tmp/autosklearn_regression_example_tmp',\n",
    "        output_folder='/tmp/autosklearn_regression_example_out',\n",
    "       )\n",
    "automl.fit(X_train, y_train, dataset_name='boston', feat_type=feature_types)\n",
    "\n",
    "print(automl.show_models())\n",
    "predictions = automl.predict(X_test)\n",
    "print(\"R2 score:\", sklearn.metrics.r2_score(y_test, predictions))"
   ]
  }
 ],
 "metadata": {
  "kernelspec": {
   "display_name": "Python 3",
   "language": "python",
   "name": "python3"
  },
  "language_info": {
   "codemirror_mode": {
    "name": "ipython",
    "version": 3
   },
   "file_extension": ".py",
   "mimetype": "text/x-python",
   "name": "python",
   "nbconvert_exporter": "python",
   "pygments_lexer": "ipython3",
   "version": "3.7.1"
  }
 },
 "nbformat": 4,
 "nbformat_minor": 2
}
